{
 "cells": [
  {
   "cell_type": "code",
   "execution_count": 1,
   "id": "5c210d84-630c-4146-a9ca-fd8e3b1dff02",
   "metadata": {},
   "outputs": [],
   "source": [
    "# import libraries \n",
    "\n",
    "from bs4 import BeautifulSoup\n",
    "import requests\n",
    "import time\n",
    "import datetime\n",
    "\n",
    "import smtplib"
   ]
  },
  {
   "cell_type": "code",
   "execution_count": 27,
   "id": "e9437818-a171-4724-bf77-2c0c41540842",
   "metadata": {},
   "outputs": [
    {
     "name": "stdout",
     "output_type": "stream",
     "text": [
      "Apple MacBook Air Laptop M1 chip, 13.3-inch/33.74 cm Retina Display, 8GB RAM, 256GB SSD Storage, Backlit Keyboard, FaceTime HD Camera, Touch ID. Works with iPhone/iPad; Space Grey\n",
      "68,990\n"
     ]
    }
   ],
   "source": [
    "# Connect to Website and pull in data\n",
    "\n",
    "URL = 'https://www.amazon.in/Apple-MacBook-Chip-13-inch-256GB/dp/B08N5W4NNB/ref=sr_1_1?dib=eyJ2IjoiMSJ9.dWH1OrW0wP6rd-rDYUcSzij5V4cKPqr2C_jpMDG-sIakC4x06-uEx5xg3AIsvv0PmV9F90Jb97slkeTE5VdKdgSBjVS4emmZs_9WylMi2c1UC03ne17fk79gxE1kTR5PIzeanjSnsIsSx2YjzXDVx1cKLoO0IwLAG0uL9IN8lE1hIIgT6h_EVDAoXlBZuNB2H_gmNR-b9n5rlsKGlsGfFg.t_Aj8VIAci2dWME_cHz80ntNNvlopUxpr7CDYrN0EsE&dib_tag=se&pf_rd_i=1375424031&pf_rd_m=A1VBAL9TL5WCBF&pf_rd_p=9f837653-c7fb-49c6-8803-967001a480f5&pf_rd_r=7MHYBJBXQB8HXG66SWM2&pf_rd_s=merchandised-search-4&qid=1721742868&sr=8-1'\n",
    "\n",
    "headers = {\"User-Agent\": \"Mozilla/5.0 (Windows NT 10.0; Win64; x64) AppleWebKit/537.36 (KHTML, like Gecko) Chrome/126.0.0.0 Safari/537.36 Edg/126.0.0.0\", \"Accept-Encoding\":\"gzip, deflate\", \"Accept\":\"text/html,application/xhtml+xml,application/xml;q=0.9,*/*;q=0.8\", \"DNT\":\"1\",\"Connection\":\"close\", \"Upgrade-Insecure-Requests\":\"1\"}\n",
    "\n",
    "page = requests.get(URL, headers=headers)\n",
    "\n",
    "soup1 = BeautifulSoup(page.content, \"html.parser\")\n",
    "\n",
    "soup2 = BeautifulSoup(soup1.prettify(), \"html.parser\")\n",
    "\n",
    "#print(soup2)\n",
    "\n",
    "title = soup2.find(id='productTitle').get_text().strip()\n",
    "\n",
    "price = soup2.find(\"span\", attrs={\"class\":'a-price aok-align-center reinventPricePriceToPayMargin priceToPay'}).find(\"span\",attrs={\"class\":\"a-price-whole\"}).text.strip()\n",
    "\n",
    "print(title)\n",
    "print(price)"
   ]
  },
  {
   "cell_type": "code",
   "execution_count": 29,
   "id": "33581efe-0479-45f4-b53b-d6c61be129f8",
   "metadata": {},
   "outputs": [
    {
     "name": "stdout",
     "output_type": "stream",
     "text": [
      "2024-07-23\n"
     ]
    }
   ],
   "source": [
    "# Create a Timestamp for your output to track when data was collected\n",
    "\n",
    "import datetime\n",
    "\n",
    "today = datetime.date.today()\n",
    "\n",
    "print(today)"
   ]
  },
  {
   "cell_type": "code",
   "execution_count": 37,
   "id": "6288bd99-f50d-4c56-a479-75c6a1b7968c",
   "metadata": {},
   "outputs": [],
   "source": [
    "# Create CSV and write headers and data into the file\n",
    "\n",
    "import csv \n",
    "\n",
    "header = ['Title', 'Price', 'Date']\n",
    "data = [title, price, today]\n",
    "\n",
    "\n",
    "#with open('AmazonWebScraperDataset.csv', 'w', newline='', encoding='UTF8') as f:\n",
    "    #writer = csv.writer(f)\n",
    "    #writer.writerow(header)\n",
    "    #writer.writerow(data)"
   ]
  },
  {
   "cell_type": "code",
   "execution_count": 62,
   "id": "38d561c9-ebb4-48a8-839c-77329eb100d3",
   "metadata": {},
   "outputs": [
    {
     "name": "stdout",
     "output_type": "stream",
     "text": [
      "                                               Title   Price        Date\n",
      "0  Apple MacBook Air Laptop M1 chip, 13.3-inch/33...  68,990  2024-07-23\n",
      "1  Apple MacBook Air Laptop M1 chip, 13.3-inch/33...  68,990  2024-07-23\n",
      "2  Apple MacBook Air Laptop M1 chip, 13.3-inch/33...  68,990  2024-07-23\n",
      "3  Apple MacBook Air Laptop M1 chip, 13.3-inch/33...  68,990  2024-07-23\n",
      "4  Apple MacBook Air Laptop M1 chip, 13.3-inch/33...  68,990  2024-07-23\n"
     ]
    }
   ],
   "source": [
    "import pandas as pd\n",
    "\n",
    "df = pd.read_csv(r'C:\\Users\\User1\\AmazonWebScraperDataset.csv')\n",
    "\n",
    "print(df)"
   ]
  },
  {
   "cell_type": "code",
   "execution_count": 54,
   "id": "2562ec4c-9ac5-469c-98b1-4a69250c75e0",
   "metadata": {},
   "outputs": [],
   "source": [
    "#Now we are appending data to the csv\n",
    "\n",
    "with open('AmazonWebScraperDataset.csv', 'a+', newline='', encoding='UTF8') as f:\n",
    "    writer = csv.writer(f)\n",
    "    writer.writerow(data)"
   ]
  },
  {
   "cell_type": "code",
   "execution_count": 64,
   "id": "6b6f187a-d058-45a3-abbb-bffdff7ad7ed",
   "metadata": {},
   "outputs": [],
   "source": [
    "#Combine all of the above code into one function\n",
    "\n",
    "\n",
    "def check_price():\n",
    "    URL = 'https://www.amazon.in/Apple-MacBook-Chip-13-inch-256GB/dp/B08N5W4NNB/ref=sr_1_1?dib=eyJ2IjoiMSJ9.dWH1OrW0wP6rd-rDYUcSzij5V4cKPqr2C_jpMDG-sIakC4x06-uEx5xg3AIsvv0PmV9F90Jb97slkeTE5VdKdgSBjVS4emmZs_9WylMi2c1UC03ne17fk79gxE1kTR5PIzeanjSnsIsSx2YjzXDVx1cKLoO0IwLAG0uL9IN8lE1hIIgT6h_EVDAoXlBZuNB2H_gmNR-b9n5rlsKGlsGfFg.t_Aj8VIAci2dWME_cHz80ntNNvlopUxpr7CDYrN0EsE&dib_tag=se&pf_rd_i=1375424031&pf_rd_m=A1VBAL9TL5WCBF&pf_rd_p=9f837653-c7fb-49c6-8803-967001a480f5&pf_rd_r=7MHYBJBXQB8HXG66SWM2&pf_rd_s=merchandised-search-4&qid=1721742868&sr=8-1'\n",
    "\n",
    "    headers = {\"User-Agent\": \"Mozilla/5.0 (Windows NT 10.0; Win64; x64) AppleWebKit/537.36 (KHTML, like Gecko) Chrome/126.0.0.0 Safari/537.36 Edg/126.0.0.0\", \"Accept-Encoding\":\"gzip, deflate\", \"Accept\":\"text/html,application/xhtml+xml,application/xml;q=0.9,*/*;q=0.8\", \"DNT\":\"1\",\"Connection\":\"close\", \"Upgrade-Insecure-Requests\":\"1\"}\n",
    "\n",
    "    page = requests.get(URL, headers=headers)\n",
    "\n",
    "    soup1 = BeautifulSoup(page.content, \"html.parser\")\n",
    "\n",
    "    soup2 = BeautifulSoup(soup1.prettify(), \"html.parser\")\n",
    "\n",
    "    #print(soup2)\n",
    "\n",
    "    title = soup2.find(id='productTitle').get_text().strip()\n",
    "\n",
    "    price = soup2.find(\"span\", attrs={\"class\":'a-price aok-align-center reinventPricePriceToPayMargin priceToPay'}).find(\"span\",attrs={\"class\":\"a-price-whole\"}).text.strip()\n",
    "\n",
    "    import datetime\n",
    "\n",
    "    today = datetime.date.today()\n",
    "\n",
    "    import csv \n",
    "\n",
    "    header = ['Title', 'Price', 'Date']\n",
    "    data = [title, price, today]\n",
    "\n",
    "    with open('AmazonWebScraperDataset.csv', 'a+', newline='', encoding='UTF8') as f:\n",
    "        writer = csv.writer(f)\n",
    "        writer.writerow(data)\n"
   ]
  },
  {
   "cell_type": "code",
   "execution_count": null,
   "id": "66c67649-7bbb-4c95-acd4-b7170aac1739",
   "metadata": {},
   "outputs": [],
   "source": [
    "# Runs check_price after a set time and inputs data into your CSV\n",
    "\n",
    "while(True):\n",
    "    check_price()\n",
    "    time.sleep(86400)"
   ]
  },
  {
   "cell_type": "code",
   "execution_count": 69,
   "id": "fe6e68cf-11db-4ecf-9b8c-c821a7d9e5b2",
   "metadata": {},
   "outputs": [
    {
     "name": "stdout",
     "output_type": "stream",
     "text": [
      "                                                Title   Price        Date\n",
      "0   Apple MacBook Air Laptop M1 chip, 13.3-inch/33...  68,990  2024-07-23\n",
      "1   Apple MacBook Air Laptop M1 chip, 13.3-inch/33...  68,990  2024-07-23\n",
      "2   Apple MacBook Air Laptop M1 chip, 13.3-inch/33...  68,990  2024-07-23\n",
      "3   Apple MacBook Air Laptop M1 chip, 13.3-inch/33...  68,990  2024-07-23\n",
      "4   Apple MacBook Air Laptop M1 chip, 13.3-inch/33...  68,990  2024-07-23\n",
      "5   Apple MacBook Air Laptop M1 chip, 13.3-inch/33...  68,990  2024-07-23\n",
      "6   Apple MacBook Air Laptop M1 chip, 13.3-inch/33...  68,990  2024-07-23\n",
      "7   Apple MacBook Air Laptop M1 chip, 13.3-inch/33...  68,990  2024-07-23\n",
      "8   Apple MacBook Air Laptop M1 chip, 13.3-inch/33...  68,990  2024-07-23\n",
      "9   Apple MacBook Air Laptop M1 chip, 13.3-inch/33...  68,990  2024-07-23\n",
      "10  Apple MacBook Air Laptop M1 chip, 13.3-inch/33...  68,990  2024-07-23\n"
     ]
    }
   ],
   "source": [
    "import pandas as pd\n",
    "\n",
    "df = pd.read_csv(r'C:\\Users\\User1\\AmazonWebScraperDataset.csv')\n",
    "\n",
    "print(df)"
   ]
  },
  {
   "cell_type": "code",
   "execution_count": null,
   "id": "41210045-e0bc-4dec-a16c-320546ee0692",
   "metadata": {},
   "outputs": [],
   "source": []
  },
  {
   "cell_type": "code",
   "execution_count": null,
   "id": "8d8cd388-f3ec-4668-abe4-335817e6b2f3",
   "metadata": {},
   "outputs": [],
   "source": []
  },
  {
   "cell_type": "code",
   "execution_count": null,
   "id": "8ee30730-87aa-454b-b4be-6675ce5e67e6",
   "metadata": {},
   "outputs": [],
   "source": []
  },
  {
   "cell_type": "code",
   "execution_count": null,
   "id": "bef05c46-578d-4746-a955-dc09d2b97604",
   "metadata": {},
   "outputs": [],
   "source": []
  }
 ],
 "metadata": {
  "kernelspec": {
   "display_name": "Python 3 (ipykernel)",
   "language": "python",
   "name": "python3"
  },
  "language_info": {
   "codemirror_mode": {
    "name": "ipython",
    "version": 3
   },
   "file_extension": ".py",
   "mimetype": "text/x-python",
   "name": "python",
   "nbconvert_exporter": "python",
   "pygments_lexer": "ipython3",
   "version": "3.12.4"
  }
 },
 "nbformat": 4,
 "nbformat_minor": 5
}
